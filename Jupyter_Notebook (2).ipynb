{
 "cells": [
  {
   "cell_type": "markdown",
   "metadata": {},
   "source": [
    "<center>\n",
    "    <img src=\"https://cf-courses-data.s3.us.cloud-object-storage.appdomain.cloud/IBMDeveloperSkillsNetwork-DS0105EN-SkillsNetwork/labs/Module2/images/SN_web_lightmode.png\" width=\"300\" alt=\"cognitiveclass.ai logo\"  />\n",
    "</center>\n"
   ]
  },
  {
   "cell_type": "markdown",
   "metadata": {},
   "source": [
    "#### Add your code below following the instructions given in the course\n"
   ]
  },
  {
   "cell_type": "markdown",
   "metadata": {},
   "source": [
    "# My Jupyter Notebook on IBM Watson Studio"
   ]
  },
  {
   "cell_type": "markdown",
   "metadata": {},
   "source": [
    "**Andres Felipe Martinez Leiva**\n",
    "Sports data scientist"
   ]
  },
  {
   "cell_type": "markdown",
   "metadata": {},
   "source": [
    "*I see the world as trillions of data upcoming from different sources, interacting between them and generating more data. According to that, to master the world we must first master the data* ... *Let's just don't forget to include the metadata into the equation*"
   ]
  },
  {
   "cell_type": "markdown",
   "metadata": {},
   "source": [
    "### In the cell below, we'll see the computation of the number 2, through the addition of 1 plus 1:"
   ]
  },
  {
   "cell_type": "code",
   "execution_count": null,
   "metadata": {
    "tags": []
   },
   "outputs": [],
   "source": [
    "1+1"
   ]
  },
  {
   "cell_type": "markdown",
   "metadata": {},
   "source": [
    "As I like stoicism as much as I like Data Science, I would like to share with you some of the top-ultimate stoic habits: \n",
    "\n",
    "- Take cold showers\n",
    "- Run long distances (Such as half-marathons and marathons)\n",
    "- Climb mountains (Don't go directly to the Everest cause we want you stay alive, but Kilimanjaro is a good start)\n",
    "- Practice journaling (One can be surprise of how much a gratitude journal can help improving people's life during hard times)\n",
    "\n",
    "Of course, try finding the time to: \n",
    "\n",
    "1. Cure diseases\n",
    "2. Write your first book; and\n",
    "3. Save the world!\n",
    "\n",
    "> “Be tolerant with others and strict with yourself.” – Marcus Aurelius\n",
    "\n",
    "Moreover, I'd like to share a little fact abouStoicism and Disciple have helped me achieving the goal of learning languages in a very efficient way. \n",
    "\n",
    "|Language| Level | Starting Age |\n",
    "|--------|------|---------------|\n",
    "|Spanish |Native| ugly baby |\n",
    "|English |C1| 6 |\n",
    "|French |C1| 19 |\n",
    "|German |C1| 26 |\n",
    "|Portuguese |B1| 28 |\n",
    "|Italian |A2 _(in progress)_| 29 |\n"
   ]
  },
  {
   "cell_type": "code",
   "execution_count": null,
   "metadata": {},
   "outputs": [],
   "source": []
  }
 ],
 "metadata": {
  "kernelspec": {
   "display_name": "Python",
   "language": "python",
   "name": "conda-env-python-py"
  },
  "language_info": {
   "codemirror_mode": {
    "name": "ipython",
    "version": 3
   },
   "file_extension": ".py",
   "mimetype": "text/x-python",
   "name": "python",
   "nbconvert_exporter": "python",
   "pygments_lexer": "ipython3",
   "version": "3.7.6"
  }
 },
 "nbformat": 4,
 "nbformat_minor": 4
}
